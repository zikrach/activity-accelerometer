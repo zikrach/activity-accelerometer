{
 "cells": [
  {
   "cell_type": "markdown",
   "metadata": {},
   "source": [
    "# Load modules"
   ]
  },
  {
   "cell_type": "code",
   "execution_count": 1,
   "metadata": {
    "ExecuteTime": {
     "end_time": "2020-08-09T12:27:10.185928Z",
     "start_time": "2020-08-09T12:27:09.806588Z"
    }
   },
   "outputs": [],
   "source": [
    "import numpy as np\n",
    "import pandas as pd\n",
    "from tqdm import tqdm_notebook as tqdm\n",
    "import pickle\n",
    "from IPython.core.display import display, HTML\n",
    "from tqdm import tqdm_notebook as tqdm\n",
    "import glob\n",
    "\n",
    "from matplotlib import pylab as plt\n",
    "%matplotlib inline\n",
    "\n",
    "pd.set_option(\"display.max_rows\", 200)\n",
    "pd.set_option(\"display.max_colwidth\", 500)\n",
    "pd.set_option(\"display.max_columns\", 200)"
   ]
  },
  {
   "cell_type": "code",
   "execution_count": null,
   "metadata": {},
   "outputs": [],
   "source": []
  },
  {
   "cell_type": "markdown",
   "metadata": {},
   "source": [
    "# Load data\n",
    "\n",
    "## Check files\n",
    "\n",
    "Let's check amount of files per type."
   ]
  },
  {
   "cell_type": "code",
   "execution_count": 2,
   "metadata": {
    "ExecuteTime": {
     "end_time": "2020-08-09T12:27:10.234857Z",
     "start_time": "2020-08-09T12:27:10.187749Z"
    }
   },
   "outputs": [
    {
     "data": {
      "text/html": [
       "<div>\n",
       "<style scoped>\n",
       "    .dataframe tbody tr th:only-of-type {\n",
       "        vertical-align: middle;\n",
       "    }\n",
       "\n",
       "    .dataframe tbody tr th {\n",
       "        vertical-align: top;\n",
       "    }\n",
       "\n",
       "    .dataframe thead th {\n",
       "        text-align: right;\n",
       "    }\n",
       "</style>\n",
       "<table border=\"1\" class=\"dataframe\">\n",
       "  <thead>\n",
       "    <tr style=\"text-align: right;\">\n",
       "      <th></th>\n",
       "      <th>type</th>\n",
       "      <th>amount</th>\n",
       "    </tr>\n",
       "  </thead>\n",
       "  <tbody>\n",
       "    <tr>\n",
       "      <th>0</th>\n",
       "      <td>idle</td>\n",
       "      <td>1039</td>\n",
       "    </tr>\n",
       "    <tr>\n",
       "      <th>1</th>\n",
       "      <td>running</td>\n",
       "      <td>3408</td>\n",
       "    </tr>\n",
       "    <tr>\n",
       "      <th>2</th>\n",
       "      <td>stairs</td>\n",
       "      <td>165</td>\n",
       "    </tr>\n",
       "    <tr>\n",
       "      <th>3</th>\n",
       "      <td>walking</td>\n",
       "      <td>1850</td>\n",
       "    </tr>\n",
       "  </tbody>\n",
       "</table>\n",
       "</div>"
      ],
      "text/plain": [
       "      type  amount\n",
       "0     idle    1039\n",
       "1  running    3408\n",
       "2   stairs     165\n",
       "3  walking    1850"
      ]
     },
     "execution_count": 2,
     "metadata": {},
     "output_type": "execute_result"
    }
   ],
   "source": [
    "file_list = pd.DataFrame({'path':glob.glob('data/**/*.csv')}).sample(frac=1).reset_index(drop=True)\n",
    "file_list['type'] = file_list['path'].str.split('/').apply(lambda x: x[1])\n",
    "file_list['id'] = file_list['path'].apply(lambda x: x.split('/')[-1].split('.')[0])\n",
    "\n",
    "file_list.groupby('type').size().reset_index(name='amount')"
   ]
  },
  {
   "cell_type": "code",
   "execution_count": 3,
   "metadata": {
    "ExecuteTime": {
     "end_time": "2020-08-09T12:27:10.243693Z",
     "start_time": "2020-08-09T12:27:10.236956Z"
    }
   },
   "outputs": [
    {
     "data": {
      "text/html": [
       "<div>\n",
       "<style scoped>\n",
       "    .dataframe tbody tr th:only-of-type {\n",
       "        vertical-align: middle;\n",
       "    }\n",
       "\n",
       "    .dataframe tbody tr th {\n",
       "        vertical-align: top;\n",
       "    }\n",
       "\n",
       "    .dataframe thead th {\n",
       "        text-align: right;\n",
       "    }\n",
       "</style>\n",
       "<table border=\"1\" class=\"dataframe\">\n",
       "  <thead>\n",
       "    <tr style=\"text-align: right;\">\n",
       "      <th></th>\n",
       "      <th>path</th>\n",
       "      <th>type</th>\n",
       "      <th>id</th>\n",
       "    </tr>\n",
       "  </thead>\n",
       "  <tbody>\n",
       "    <tr>\n",
       "      <th>0</th>\n",
       "      <td>data/idle/idle-523.csv</td>\n",
       "      <td>idle</td>\n",
       "      <td>idle-523</td>\n",
       "    </tr>\n",
       "    <tr>\n",
       "      <th>1</th>\n",
       "      <td>data/walking/walking-247.csv</td>\n",
       "      <td>walking</td>\n",
       "      <td>walking-247</td>\n",
       "    </tr>\n",
       "    <tr>\n",
       "      <th>2</th>\n",
       "      <td>data/running/running-1208.csv</td>\n",
       "      <td>running</td>\n",
       "      <td>running-1208</td>\n",
       "    </tr>\n",
       "    <tr>\n",
       "      <th>3</th>\n",
       "      <td>data/running/running-2211.csv</td>\n",
       "      <td>running</td>\n",
       "      <td>running-2211</td>\n",
       "    </tr>\n",
       "    <tr>\n",
       "      <th>4</th>\n",
       "      <td>data/running/running-2816.csv</td>\n",
       "      <td>running</td>\n",
       "      <td>running-2816</td>\n",
       "    </tr>\n",
       "  </tbody>\n",
       "</table>\n",
       "</div>"
      ],
      "text/plain": [
       "                            path     type            id\n",
       "0         data/idle/idle-523.csv     idle      idle-523\n",
       "1   data/walking/walking-247.csv  walking   walking-247\n",
       "2  data/running/running-1208.csv  running  running-1208\n",
       "3  data/running/running-2211.csv  running  running-2211\n",
       "4  data/running/running-2816.csv  running  running-2816"
      ]
     },
     "execution_count": 3,
     "metadata": {},
     "output_type": "execute_result"
    }
   ],
   "source": [
    "file_list.head()"
   ]
  },
  {
   "cell_type": "code",
   "execution_count": 4,
   "metadata": {
    "ExecuteTime": {
     "end_time": "2020-08-09T12:27:10.337174Z",
     "start_time": "2020-08-09T12:27:10.322735Z"
    }
   },
   "outputs": [
    {
     "data": {
      "text/html": [
       "<div>\n",
       "<style scoped>\n",
       "    .dataframe tbody tr th:only-of-type {\n",
       "        vertical-align: middle;\n",
       "    }\n",
       "\n",
       "    .dataframe tbody tr th {\n",
       "        vertical-align: top;\n",
       "    }\n",
       "\n",
       "    .dataframe thead th {\n",
       "        text-align: right;\n",
       "    }\n",
       "</style>\n",
       "<table border=\"1\" class=\"dataframe\">\n",
       "  <thead>\n",
       "    <tr style=\"text-align: right;\">\n",
       "      <th></th>\n",
       "      <th>type</th>\n",
       "      <th>amount</th>\n",
       "    </tr>\n",
       "  </thead>\n",
       "  <tbody>\n",
       "    <tr>\n",
       "      <th>0</th>\n",
       "      <td>idle</td>\n",
       "      <td>16.08</td>\n",
       "    </tr>\n",
       "    <tr>\n",
       "      <th>1</th>\n",
       "      <td>running</td>\n",
       "      <td>52.74</td>\n",
       "    </tr>\n",
       "    <tr>\n",
       "      <th>2</th>\n",
       "      <td>stairs</td>\n",
       "      <td>2.55</td>\n",
       "    </tr>\n",
       "    <tr>\n",
       "      <th>3</th>\n",
       "      <td>walking</td>\n",
       "      <td>28.63</td>\n",
       "    </tr>\n",
       "  </tbody>\n",
       "</table>\n",
       "</div>"
      ],
      "text/plain": [
       "      type  amount\n",
       "0     idle   16.08\n",
       "1  running   52.74\n",
       "2   stairs    2.55\n",
       "3  walking   28.63"
      ]
     },
     "execution_count": 4,
     "metadata": {},
     "output_type": "execute_result"
    }
   ],
   "source": [
    "files_stats = file_list.groupby('type').size().reset_index(name='amount')\n",
    "files_stats['amount'] = files_stats['amount'].div(files_stats['amount'].sum() * 0.01).round(2)\n",
    "\n",
    "files_stats"
   ]
  },
  {
   "cell_type": "code",
   "execution_count": 5,
   "metadata": {
    "ExecuteTime": {
     "end_time": "2020-08-09T12:27:17.989781Z",
     "start_time": "2020-08-09T12:27:10.551786Z"
    }
   },
   "outputs": [
    {
     "data": {
      "text/plain": [
       "array([ 3, 30])"
      ]
     },
     "execution_count": 5,
     "metadata": {},
     "output_type": "execute_result"
    }
   ],
   "source": [
    "np.unique([pd.read_csv(arg).shape for arg in file_list['path']])"
   ]
  },
  {
   "cell_type": "markdown",
   "metadata": {},
   "source": [
    "**We have unbalanced classes with static window (30 measurements) for each event**\n",
    "\n",
    "Assumptions:\n",
    "\n",
    "1. All measurements was made with constant frequency.\n",
    "1. All measurements was made with one equipment in one ranges."
   ]
  },
  {
   "cell_type": "markdown",
   "metadata": {},
   "source": [
    "## Read all files"
   ]
  },
  {
   "cell_type": "code",
   "execution_count": 6,
   "metadata": {
    "ExecuteTime": {
     "end_time": "2020-08-09T12:27:31.472945Z",
     "start_time": "2020-08-09T12:27:17.992828Z"
    }
   },
   "outputs": [
    {
     "name": "stderr",
     "output_type": "stream",
     "text": [
      "/usr/local/lib/python3.7/site-packages/ipykernel_launcher.py:3: TqdmDeprecationWarning: This function will be removed in tqdm==5.0.0\n",
      "Please use `tqdm.notebook.tqdm` instead of `tqdm.tqdm_notebook`\n",
      "  This is separate from the ipykernel package so we can avoid doing imports until\n"
     ]
    },
    {
     "data": {
      "application/vnd.jupyter.widget-view+json": {
       "model_id": "ca481a99353841d8a5e2cca8a93636b7",
       "version_major": 2,
       "version_minor": 0
      },
      "text/plain": [
       "HBox(children=(FloatProgress(value=0.0, max=6462.0), HTML(value='')))"
      ]
     },
     "metadata": {},
     "output_type": "display_data"
    },
    {
     "name": "stdout",
     "output_type": "stream",
     "text": [
      "\n"
     ]
    }
   ],
   "source": [
    "data_list = []\n",
    "\n",
    "for arg in tqdm(file_list.values):\n",
    "    temp = pd.read_csv(arg[0])\n",
    "    \n",
    "    assert len(temp) == 30\n",
    "    \n",
    "    temp['id'] = arg[2]\n",
    "    temp['time'] = np.arange(30)\n",
    "    temp['type'] = arg[1]\n",
    "    \n",
    "    data_list.append(temp)"
   ]
  },
  {
   "cell_type": "code",
   "execution_count": 7,
   "metadata": {
    "ExecuteTime": {
     "end_time": "2020-08-09T12:27:34.505083Z",
     "start_time": "2020-08-09T12:27:31.475468Z"
    }
   },
   "outputs": [
    {
     "name": "stdout",
     "output_type": "stream",
     "text": [
      "<class 'pandas.core.frame.DataFrame'>\n",
      "Int64Index: 193860 entries, 0 to 29\n",
      "Data columns (total 6 columns):\n",
      " #   Column           Non-Null Count   Dtype  \n",
      "---  ------           --------------   -----  \n",
      " 0   accelerometer_X  193860 non-null  float64\n",
      " 1   accelerometer_Y  193860 non-null  float64\n",
      " 2   accelerometer_Z  193860 non-null  float64\n",
      " 3   id               193860 non-null  object \n",
      " 4   time             193860 non-null  int64  \n",
      " 5   type             193860 non-null  object \n",
      "dtypes: float64(3), int64(1), object(2)\n",
      "memory usage: 10.4+ MB\n"
     ]
    }
   ],
   "source": [
    "data_df = pd.concat(data_list, axis=0, sort=False)\n",
    "\n",
    "data_df.info()"
   ]
  },
  {
   "cell_type": "markdown",
   "metadata": {},
   "source": [
    "## Check stats for different types"
   ]
  },
  {
   "cell_type": "code",
   "execution_count": 8,
   "metadata": {
    "ExecuteTime": {
     "end_time": "2020-08-09T12:27:34.560419Z",
     "start_time": "2020-08-09T12:27:34.507672Z"
    }
   },
   "outputs": [
    {
     "data": {
      "text/html": [
       "<div>\n",
       "<style scoped>\n",
       "    .dataframe tbody tr th:only-of-type {\n",
       "        vertical-align: middle;\n",
       "    }\n",
       "\n",
       "    .dataframe tbody tr th {\n",
       "        vertical-align: top;\n",
       "    }\n",
       "\n",
       "    .dataframe thead th {\n",
       "        text-align: right;\n",
       "    }\n",
       "</style>\n",
       "<table border=\"1\" class=\"dataframe\">\n",
       "  <thead>\n",
       "    <tr style=\"text-align: right;\">\n",
       "      <th></th>\n",
       "      <th>count</th>\n",
       "      <th>mean</th>\n",
       "      <th>std</th>\n",
       "      <th>min</th>\n",
       "      <th>25%</th>\n",
       "      <th>50%</th>\n",
       "      <th>75%</th>\n",
       "      <th>max</th>\n",
       "    </tr>\n",
       "  </thead>\n",
       "  <tbody>\n",
       "    <tr>\n",
       "      <th>accelerometer_X</th>\n",
       "      <td>193860.0</td>\n",
       "      <td>1.923550</td>\n",
       "      <td>8.404867</td>\n",
       "      <td>-39.188293</td>\n",
       "      <td>-2.494758</td>\n",
       "      <td>0.248997</td>\n",
       "      <td>4.668694</td>\n",
       "      <td>39.188293</td>\n",
       "    </tr>\n",
       "    <tr>\n",
       "      <th>accelerometer_Y</th>\n",
       "      <td>193860.0</td>\n",
       "      <td>1.598343</td>\n",
       "      <td>12.474041</td>\n",
       "      <td>-39.188293</td>\n",
       "      <td>-8.327033</td>\n",
       "      <td>-0.009577</td>\n",
       "      <td>8.671799</td>\n",
       "      <td>39.188293</td>\n",
       "    </tr>\n",
       "    <tr>\n",
       "      <th>accelerometer_Z</th>\n",
       "      <td>193860.0</td>\n",
       "      <td>1.804896</td>\n",
       "      <td>7.191590</td>\n",
       "      <td>-39.188293</td>\n",
       "      <td>-2.494758</td>\n",
       "      <td>0.905008</td>\n",
       "      <td>7.187394</td>\n",
       "      <td>39.188293</td>\n",
       "    </tr>\n",
       "    <tr>\n",
       "      <th>time</th>\n",
       "      <td>193860.0</td>\n",
       "      <td>14.500000</td>\n",
       "      <td>8.655464</td>\n",
       "      <td>0.000000</td>\n",
       "      <td>7.000000</td>\n",
       "      <td>14.500000</td>\n",
       "      <td>22.000000</td>\n",
       "      <td>29.000000</td>\n",
       "    </tr>\n",
       "  </tbody>\n",
       "</table>\n",
       "</div>"
      ],
      "text/plain": [
       "                    count       mean        std        min       25%  \\\n",
       "accelerometer_X  193860.0   1.923550   8.404867 -39.188293 -2.494758   \n",
       "accelerometer_Y  193860.0   1.598343  12.474041 -39.188293 -8.327033   \n",
       "accelerometer_Z  193860.0   1.804896   7.191590 -39.188293 -2.494758   \n",
       "time             193860.0  14.500000   8.655464   0.000000  7.000000   \n",
       "\n",
       "                       50%        75%        max  \n",
       "accelerometer_X   0.248997   4.668694  39.188293  \n",
       "accelerometer_Y  -0.009577   8.671799  39.188293  \n",
       "accelerometer_Z   0.905008   7.187394  39.188293  \n",
       "time             14.500000  22.000000  29.000000  "
      ]
     },
     "execution_count": 8,
     "metadata": {},
     "output_type": "execute_result"
    }
   ],
   "source": [
    "data_df.describe().T"
   ]
  },
  {
   "cell_type": "code",
   "execution_count": 9,
   "metadata": {
    "ExecuteTime": {
     "end_time": "2020-08-09T12:27:34.663883Z",
     "start_time": "2020-08-09T12:27:34.561823Z"
    }
   },
   "outputs": [
    {
     "data": {
      "text/html": [
       "<div>\n",
       "<style scoped>\n",
       "    .dataframe tbody tr th:only-of-type {\n",
       "        vertical-align: middle;\n",
       "    }\n",
       "\n",
       "    .dataframe tbody tr th {\n",
       "        vertical-align: top;\n",
       "    }\n",
       "\n",
       "    .dataframe thead th {\n",
       "        text-align: right;\n",
       "    }\n",
       "</style>\n",
       "<table border=\"1\" class=\"dataframe\">\n",
       "  <thead>\n",
       "    <tr style=\"text-align: right;\">\n",
       "      <th></th>\n",
       "      <th>type</th>\n",
       "      <th>idle</th>\n",
       "      <th>running</th>\n",
       "      <th>stairs</th>\n",
       "      <th>walking</th>\n",
       "    </tr>\n",
       "  </thead>\n",
       "  <tbody>\n",
       "    <tr>\n",
       "      <th rowspan=\"8\" valign=\"top\">accelerometer_X</th>\n",
       "      <th>count</th>\n",
       "      <td>31170.000000</td>\n",
       "      <td>102240.000000</td>\n",
       "      <td>4950.000000</td>\n",
       "      <td>55500.000000</td>\n",
       "    </tr>\n",
       "    <tr>\n",
       "      <th>mean</th>\n",
       "      <td>0.096767</td>\n",
       "      <td>5.045705</td>\n",
       "      <td>0.353135</td>\n",
       "      <td>-2.661943</td>\n",
       "    </tr>\n",
       "    <tr>\n",
       "      <th>std</th>\n",
       "      <td>0.691892</td>\n",
       "      <td>9.952696</td>\n",
       "      <td>3.845949</td>\n",
       "      <td>4.648378</td>\n",
       "    </tr>\n",
       "    <tr>\n",
       "      <th>min</th>\n",
       "      <td>-10.448297</td>\n",
       "      <td>-39.188293</td>\n",
       "      <td>-11.238382</td>\n",
       "      <td>-26.815060</td>\n",
       "    </tr>\n",
       "    <tr>\n",
       "      <th>25%</th>\n",
       "      <td>-0.110133</td>\n",
       "      <td>-1.532289</td>\n",
       "      <td>-1.857900</td>\n",
       "      <td>-4.855441</td>\n",
       "    </tr>\n",
       "    <tr>\n",
       "      <th>50%</th>\n",
       "      <td>0.234632</td>\n",
       "      <td>3.605668</td>\n",
       "      <td>0.483629</td>\n",
       "      <td>-2.298433</td>\n",
       "    </tr>\n",
       "    <tr>\n",
       "      <th>75%</th>\n",
       "      <td>0.277727</td>\n",
       "      <td>9.595961</td>\n",
       "      <td>2.600103</td>\n",
       "      <td>-0.229843</td>\n",
       "    </tr>\n",
       "    <tr>\n",
       "      <th>max</th>\n",
       "      <td>8.135497</td>\n",
       "      <td>39.188293</td>\n",
       "      <td>14.164097</td>\n",
       "      <td>20.575770</td>\n",
       "    </tr>\n",
       "    <tr>\n",
       "      <th rowspan=\"8\" valign=\"top\">accelerometer_Y</th>\n",
       "      <th>count</th>\n",
       "      <td>31170.000000</td>\n",
       "      <td>102240.000000</td>\n",
       "      <td>4950.000000</td>\n",
       "      <td>55500.000000</td>\n",
       "    </tr>\n",
       "    <tr>\n",
       "      <th>mean</th>\n",
       "      <td>2.225971</td>\n",
       "      <td>8.083135</td>\n",
       "      <td>-9.574353</td>\n",
       "      <td>-9.703702</td>\n",
       "    </tr>\n",
       "    <tr>\n",
       "      <th>std</th>\n",
       "      <td>2.821235</td>\n",
       "      <td>12.441402</td>\n",
       "      <td>4.922294</td>\n",
       "      <td>5.931165</td>\n",
       "    </tr>\n",
       "    <tr>\n",
       "      <th>min</th>\n",
       "      <td>-2.595315</td>\n",
       "      <td>-39.188293</td>\n",
       "      <td>-25.828648</td>\n",
       "      <td>-39.188293</td>\n",
       "    </tr>\n",
       "    <tr>\n",
       "      <th>25%</th>\n",
       "      <td>-0.028730</td>\n",
       "      <td>-0.742202</td>\n",
       "      <td>-12.253524</td>\n",
       "      <td>-13.369223</td>\n",
       "    </tr>\n",
       "    <tr>\n",
       "      <th>50%</th>\n",
       "      <td>0.028730</td>\n",
       "      <td>7.967903</td>\n",
       "      <td>-8.944737</td>\n",
       "      <td>-9.974244</td>\n",
       "    </tr>\n",
       "    <tr>\n",
       "      <th>75%</th>\n",
       "      <td>5.310340</td>\n",
       "      <td>16.385916</td>\n",
       "      <td>-6.301539</td>\n",
       "      <td>-6.540959</td>\n",
       "    </tr>\n",
       "    <tr>\n",
       "      <th>max</th>\n",
       "      <td>9.916783</td>\n",
       "      <td>39.188293</td>\n",
       "      <td>4.994305</td>\n",
       "      <td>14.441825</td>\n",
       "    </tr>\n",
       "    <tr>\n",
       "      <th rowspan=\"8\" valign=\"top\">accelerometer_Z</th>\n",
       "      <th>count</th>\n",
       "      <td>31170.000000</td>\n",
       "      <td>102240.000000</td>\n",
       "      <td>4950.000000</td>\n",
       "      <td>55500.000000</td>\n",
       "    </tr>\n",
       "    <tr>\n",
       "      <th>mean</th>\n",
       "      <td>8.973247</td>\n",
       "      <td>1.387356</td>\n",
       "      <td>-1.841333</td>\n",
       "      <td>-1.126623</td>\n",
       "    </tr>\n",
       "    <tr>\n",
       "      <th>std</th>\n",
       "      <td>1.211058</td>\n",
       "      <td>7.004236</td>\n",
       "      <td>5.297376</td>\n",
       "      <td>6.927679</td>\n",
       "    </tr>\n",
       "    <tr>\n",
       "      <th>min</th>\n",
       "      <td>-0.296881</td>\n",
       "      <td>-39.188293</td>\n",
       "      <td>-38.086960</td>\n",
       "      <td>-39.169140</td>\n",
       "    </tr>\n",
       "    <tr>\n",
       "      <th>25%</th>\n",
       "      <td>8.116344</td>\n",
       "      <td>-2.873042</td>\n",
       "      <td>-3.797204</td>\n",
       "      <td>-3.428497</td>\n",
       "    </tr>\n",
       "    <tr>\n",
       "      <th>50%</th>\n",
       "      <td>9.749189</td>\n",
       "      <td>0.407014</td>\n",
       "      <td>-1.589750</td>\n",
       "      <td>-0.933739</td>\n",
       "    </tr>\n",
       "    <tr>\n",
       "      <th>75%</th>\n",
       "      <td>9.773131</td>\n",
       "      <td>4.769250</td>\n",
       "      <td>0.292093</td>\n",
       "      <td>1.561020</td>\n",
       "    </tr>\n",
       "    <tr>\n",
       "      <th>max</th>\n",
       "      <td>21.988348</td>\n",
       "      <td>39.188293</td>\n",
       "      <td>17.492037</td>\n",
       "      <td>38.426937</td>\n",
       "    </tr>\n",
       "    <tr>\n",
       "      <th rowspan=\"8\" valign=\"top\">time</th>\n",
       "      <th>count</th>\n",
       "      <td>31170.000000</td>\n",
       "      <td>102240.000000</td>\n",
       "      <td>4950.000000</td>\n",
       "      <td>55500.000000</td>\n",
       "    </tr>\n",
       "    <tr>\n",
       "      <th>mean</th>\n",
       "      <td>14.500000</td>\n",
       "      <td>14.500000</td>\n",
       "      <td>14.500000</td>\n",
       "      <td>14.500000</td>\n",
       "    </tr>\n",
       "    <tr>\n",
       "      <th>std</th>\n",
       "      <td>8.655580</td>\n",
       "      <td>8.655484</td>\n",
       "      <td>8.656316</td>\n",
       "      <td>8.655519</td>\n",
       "    </tr>\n",
       "    <tr>\n",
       "      <th>min</th>\n",
       "      <td>0.000000</td>\n",
       "      <td>0.000000</td>\n",
       "      <td>0.000000</td>\n",
       "      <td>0.000000</td>\n",
       "    </tr>\n",
       "    <tr>\n",
       "      <th>25%</th>\n",
       "      <td>7.000000</td>\n",
       "      <td>7.000000</td>\n",
       "      <td>7.000000</td>\n",
       "      <td>7.000000</td>\n",
       "    </tr>\n",
       "    <tr>\n",
       "      <th>50%</th>\n",
       "      <td>14.500000</td>\n",
       "      <td>14.500000</td>\n",
       "      <td>14.500000</td>\n",
       "      <td>14.500000</td>\n",
       "    </tr>\n",
       "    <tr>\n",
       "      <th>75%</th>\n",
       "      <td>22.000000</td>\n",
       "      <td>22.000000</td>\n",
       "      <td>22.000000</td>\n",
       "      <td>22.000000</td>\n",
       "    </tr>\n",
       "    <tr>\n",
       "      <th>max</th>\n",
       "      <td>29.000000</td>\n",
       "      <td>29.000000</td>\n",
       "      <td>29.000000</td>\n",
       "      <td>29.000000</td>\n",
       "    </tr>\n",
       "  </tbody>\n",
       "</table>\n",
       "</div>"
      ],
      "text/plain": [
       "type                           idle        running       stairs       walking\n",
       "accelerometer_X count  31170.000000  102240.000000  4950.000000  55500.000000\n",
       "                mean       0.096767       5.045705     0.353135     -2.661943\n",
       "                std        0.691892       9.952696     3.845949      4.648378\n",
       "                min      -10.448297     -39.188293   -11.238382    -26.815060\n",
       "                25%       -0.110133      -1.532289    -1.857900     -4.855441\n",
       "                50%        0.234632       3.605668     0.483629     -2.298433\n",
       "                75%        0.277727       9.595961     2.600103     -0.229843\n",
       "                max        8.135497      39.188293    14.164097     20.575770\n",
       "accelerometer_Y count  31170.000000  102240.000000  4950.000000  55500.000000\n",
       "                mean       2.225971       8.083135    -9.574353     -9.703702\n",
       "                std        2.821235      12.441402     4.922294      5.931165\n",
       "                min       -2.595315     -39.188293   -25.828648    -39.188293\n",
       "                25%       -0.028730      -0.742202   -12.253524    -13.369223\n",
       "                50%        0.028730       7.967903    -8.944737     -9.974244\n",
       "                75%        5.310340      16.385916    -6.301539     -6.540959\n",
       "                max        9.916783      39.188293     4.994305     14.441825\n",
       "accelerometer_Z count  31170.000000  102240.000000  4950.000000  55500.000000\n",
       "                mean       8.973247       1.387356    -1.841333     -1.126623\n",
       "                std        1.211058       7.004236     5.297376      6.927679\n",
       "                min       -0.296881     -39.188293   -38.086960    -39.169140\n",
       "                25%        8.116344      -2.873042    -3.797204     -3.428497\n",
       "                50%        9.749189       0.407014    -1.589750     -0.933739\n",
       "                75%        9.773131       4.769250     0.292093      1.561020\n",
       "                max       21.988348      39.188293    17.492037     38.426937\n",
       "time            count  31170.000000  102240.000000  4950.000000  55500.000000\n",
       "                mean      14.500000      14.500000    14.500000     14.500000\n",
       "                std        8.655580       8.655484     8.656316      8.655519\n",
       "                min        0.000000       0.000000     0.000000      0.000000\n",
       "                25%        7.000000       7.000000     7.000000      7.000000\n",
       "                50%       14.500000      14.500000    14.500000     14.500000\n",
       "                75%       22.000000      22.000000    22.000000     22.000000\n",
       "                max       29.000000      29.000000    29.000000     29.000000"
      ]
     },
     "execution_count": 9,
     "metadata": {},
     "output_type": "execute_result"
    }
   ],
   "source": [
    "data_df.groupby('type').describe().T"
   ]
  },
  {
   "cell_type": "code",
   "execution_count": 10,
   "metadata": {
    "ExecuteTime": {
     "end_time": "2020-08-09T12:27:34.668583Z",
     "start_time": "2020-08-09T12:27:34.665315Z"
    }
   },
   "outputs": [
    {
     "data": {
      "text/plain": [
       "Index(['accelerometer_X', 'accelerometer_Y', 'accelerometer_Z', 'id', 'time',\n",
       "       'type'],\n",
       "      dtype='object')"
      ]
     },
     "execution_count": 10,
     "metadata": {},
     "output_type": "execute_result"
    }
   ],
   "source": [
    "data_df.columns"
   ]
  },
  {
   "cell_type": "code",
   "execution_count": 11,
   "metadata": {
    "ExecuteTime": {
     "end_time": "2020-08-09T12:27:41.338644Z",
     "start_time": "2020-08-09T12:27:34.670038Z"
    }
   },
   "outputs": [
    {
     "data": {
      "image/png": "[encoded data removed]",
      "text/plain": [
       "<Figure size 1728x864 with 3 Axes>"
      ]
     },
     "metadata": {
      "needs_background": "light"
     },
     "output_type": "display_data"
    }
   ],
   "source": [
    "import seaborn as sns\n",
    "\n",
    "fig=plt.figure(figsize=(24,12))\n",
    "ax1=fig.add_subplot(131)\n",
    "ax1=sns.stripplot(x='type',y='accelerometer_X',data=data_df,jitter=True)\n",
    "\n",
    "ax2=fig.add_subplot(132)\n",
    "ax2=sns.stripplot(x='type',y='accelerometer_Y',data=data_df,jitter=True)\n",
    "\n",
    "ax3=fig.add_subplot(133)\n",
    "ax3=sns.stripplot(x='type',y='accelerometer_Z',data=data_df,jitter=True)\n",
    "\n",
    "plt.show()"
   ]
  },
  {
   "cell_type": "markdown",
   "metadata": {},
   "source": [
    "**Conclutions:**\n",
    "\n",
    "1. In data presented outliers\n",
    "2. We have difference more in std, min, and max terms"
   ]
  },
  {
   "cell_type": "markdown",
   "metadata": {},
   "source": [
    "## Train test split of files by type"
   ]
  },
  {
   "cell_type": "code",
   "execution_count": 12,
   "metadata": {
    "ExecuteTime": {
     "end_time": "2020-08-09T12:27:41.380481Z",
     "start_time": "2020-08-09T12:27:41.344448Z"
    }
   },
   "outputs": [
    {
     "data": {
      "text/plain": [
       "(5815, 647)"
      ]
     },
     "execution_count": 12,
     "metadata": {},
     "output_type": "execute_result"
    }
   ],
   "source": [
    "from sklearn.model_selection import train_test_split, cross_val_predict, cross_val_score\n",
    "\n",
    "train_ids, test_ids = train_test_split(file_list, test_size=0.1, stratify=file_list['type'])\n",
    "\n",
    "len(train_ids), len(test_ids)"
   ]
  },
  {
   "cell_type": "code",
   "execution_count": 13,
   "metadata": {
    "ExecuteTime": {
     "end_time": "2020-08-09T12:27:41.386384Z",
     "start_time": "2020-08-09T12:27:41.382951Z"
    }
   },
   "outputs": [
    {
     "data": {
      "text/plain": [
       "(Index(['path', 'type', 'id'], dtype='object'),\n",
       " Index(['accelerometer_X', 'accelerometer_Y', 'accelerometer_Z', 'id', 'time',\n",
       "        'type'],\n",
       "       dtype='object'))"
      ]
     },
     "execution_count": 13,
     "metadata": {},
     "output_type": "execute_result"
    }
   ],
   "source": [
    "train_ids.columns, data_df.columns"
   ]
  },
  {
   "cell_type": "code",
   "execution_count": 14,
   "metadata": {
    "ExecuteTime": {
     "end_time": "2020-08-09T12:27:41.515660Z",
     "start_time": "2020-08-09T12:27:41.387834Z"
    }
   },
   "outputs": [
    {
     "data": {
      "text/plain": [
       "((174450, 3), (19410, 3))"
      ]
     },
     "execution_count": 14,
     "metadata": {},
     "output_type": "execute_result"
    }
   ],
   "source": [
    "X_train = data_df[data_df['id'].isin(train_ids['id'])].sort_values([\"id\", \"time\"]).drop(['type', 'id', 'time'], axis=1).copy()\n",
    "y_train = data_df[data_df['id'].isin(train_ids['id'])].sort_values([\"id\", \"time\"])['type'].values\n",
    "\n",
    "X_test = data_df[data_df['id'].isin(test_ids['id'])].sort_values([\"id\", \"time\"]).drop(['type', 'id', 'time'], axis=1).copy()\n",
    "y_test = data_df[data_df['id'].isin(test_ids['id'])].sort_values([\"id\", \"time\"])['type'].values\n",
    "\n",
    "X_train.shape, X_test.shape"
   ]
  },
  {
   "cell_type": "markdown",
   "metadata": {},
   "source": [
    "# Features generation"
   ]
  },
  {
   "cell_type": "markdown",
   "metadata": {},
   "source": [
    "## Fit RF classifier with using 30*3 measurements as features"
   ]
  },
  {
   "cell_type": "code",
   "execution_count": 15,
   "metadata": {
    "ExecuteTime": {
     "end_time": "2020-08-09T12:27:41.561080Z",
     "start_time": "2020-08-09T12:27:41.517783Z"
    }
   },
   "outputs": [],
   "source": [
    "from sklearn.ensemble import RandomForestClassifier\n",
    "from sklearn.metrics import classification_report, confusion_matrix, plot_confusion_matrix, ConfusionMatrixDisplay\n",
    "\n",
    "def plot_results(estimator=None, X_test=None, y_test=None, y_pred=None):\n",
    "    \n",
    "    fig, ax = plt.subplots()\n",
    "    \n",
    "    if estimator is None:\n",
    "        ConfusionMatrixDisplay(confusion_matrix(y_test, y_pred), np.unique(y_test))\n",
    "        ax.set_title('Cross Validation result on X_train')\n",
    "    else:\n",
    "        plot_confusion_matrix(estimator, X_test, y_test,\n",
    "                                 display_labels=np.unique(y_test),\n",
    "                                 cmap=plt.cm.Blues,\n",
    "                     values_format='.0f',\n",
    "                     ax=ax)\n",
    "        ax.set_title('Hold-Out result')\n",
    "    plt.show()"
   ]
  },
  {
   "cell_type": "code",
   "execution_count": 16,
   "metadata": {
    "ExecuteTime": {
     "end_time": "2020-08-09T12:28:06.231594Z",
     "start_time": "2020-08-09T12:27:41.562642Z"
    }
   },
   "outputs": [
    {
     "name": "stderr",
     "output_type": "stream",
     "text": [
      "/usr/local/lib/python3.7/site-packages/ipykernel_launcher.py:3: TqdmDeprecationWarning: This function will be removed in tqdm==5.0.0\n",
      "Please use `tqdm.notebook.tqdm` instead of `tqdm.tqdm_notebook`\n",
      "  This is separate from the ipykernel package so we can avoid doing imports until\n"
     ]
    },
    {
     "data": {
      "application/vnd.jupyter.widget-view+json": {
       "model_id": "827163da921d4e719da6ce1360672894",
       "version_major": 2,
       "version_minor": 0
      },
      "text/plain": [
       "HBox(children=(FloatProgress(value=0.0, max=6462.0), HTML(value='')))"
      ]
     },
     "metadata": {},
     "output_type": "display_data"
    },
    {
     "name": "stdout",
     "output_type": "stream",
     "text": [
      "\n"
     ]
    },
    {
     "data": {
      "text/html": [
       "<div>\n",
       "<style scoped>\n",
       "    .dataframe tbody tr th:only-of-type {\n",
       "        vertical-align: middle;\n",
       "    }\n",
       "\n",
       "    .dataframe tbody tr th {\n",
       "        vertical-align: top;\n",
       "    }\n",
       "\n",
       "    .dataframe thead th {\n",
       "        text-align: right;\n",
       "    }\n",
       "</style>\n",
       "<table border=\"1\" class=\"dataframe\">\n",
       "  <thead>\n",
       "    <tr style=\"text-align: right;\">\n",
       "      <th></th>\n",
       "      <th>accelerometer_X__0</th>\n",
       "      <th>accelerometer_Y__0</th>\n",
       "      <th>accelerometer_Z__0</th>\n",
       "      <th>accelerometer_X__1</th>\n",
       "      <th>accelerometer_Y__1</th>\n",
       "      <th>accelerometer_Z__1</th>\n",
       "      <th>accelerometer_X__2</th>\n",
       "      <th>accelerometer_Y__2</th>\n",
       "      <th>accelerometer_Z__2</th>\n",
       "      <th>accelerometer_X__3</th>\n",
       "      <th>accelerometer_Y__3</th>\n",
       "      <th>accelerometer_Z__3</th>\n",
       "      <th>accelerometer_X__4</th>\n",
       "      <th>accelerometer_Y__4</th>\n",
       "      <th>accelerometer_Z__4</th>\n",
       "      <th>accelerometer_X__5</th>\n",
       "      <th>accelerometer_Y__5</th>\n",
       "      <th>accelerometer_Z__5</th>\n",
       "      <th>accelerometer_X__6</th>\n",
       "      <th>accelerometer_Y__6</th>\n",
       "      <th>accelerometer_Z__6</th>\n",
       "      <th>accelerometer_X__7</th>\n",
       "      <th>accelerometer_Y__7</th>\n",
       "      <th>accelerometer_Z__7</th>\n",
       "      <th>accelerometer_X__8</th>\n",
       "      <th>accelerometer_Y__8</th>\n",
       "      <th>accelerometer_Z__8</th>\n",
       "      <th>accelerometer_X__9</th>\n",
       "      <th>accelerometer_Y__9</th>\n",
       "      <th>accelerometer_Z__9</th>\n",
       "      <th>accelerometer_X__10</th>\n",
       "      <th>accelerometer_Y__10</th>\n",
       "      <th>accelerometer_Z__10</th>\n",
       "      <th>accelerometer_X__11</th>\n",
       "      <th>accelerometer_Y__11</th>\n",
       "      <th>accelerometer_Z__11</th>\n",
       "      <th>accelerometer_X__12</th>\n",
       "      <th>accelerometer_Y__12</th>\n",
       "      <th>accelerometer_Z__12</th>\n",
       "      <th>accelerometer_X__13</th>\n",
       "      <th>accelerometer_Y__13</th>\n",
       "      <th>accelerometer_Z__13</th>\n",
       "      <th>accelerometer_X__14</th>\n",
       "      <th>accelerometer_Y__14</th>\n",
       "      <th>accelerometer_Z__14</th>\n",
       "      <th>accelerometer_X__15</th>\n",
       "      <th>accelerometer_Y__15</th>\n",
       "      <th>accelerometer_Z__15</th>\n",
       "      <th>accelerometer_X__16</th>\n",
       "      <th>accelerometer_Y__16</th>\n",
       "      <th>accelerometer_Z__16</th>\n",
       "      <th>accelerometer_X__17</th>\n",
       "      <th>accelerometer_Y__17</th>\n",
       "      <th>accelerometer_Z__17</th>\n",
       "      <th>accelerometer_X__18</th>\n",
       "      <th>accelerometer_Y__18</th>\n",
       "      <th>accelerometer_Z__18</th>\n",
       "      <th>accelerometer_X__19</th>\n",
       "      <th>accelerometer_Y__19</th>\n",
       "      <th>accelerometer_Z__19</th>\n",
       "      <th>accelerometer_X__20</th>\n",
       "      <th>accelerometer_Y__20</th>\n",
       "      <th>accelerometer_Z__20</th>\n",
       "      <th>accelerometer_X__21</th>\n",
       "      <th>accelerometer_Y__21</th>\n",
       "      <th>accelerometer_Z__21</th>\n",
       "      <th>accelerometer_X__22</th>\n",
       "      <th>accelerometer_Y__22</th>\n",
       "      <th>accelerometer_Z__22</th>\n",
       "      <th>accelerometer_X__23</th>\n",
       "      <th>accelerometer_Y__23</th>\n",
       "      <th>accelerometer_Z__23</th>\n",
       "      <th>accelerometer_X__24</th>\n",
       "      <th>accelerometer_Y__24</th>\n",
       "      <th>accelerometer_Z__24</th>\n",
       "      <th>accelerometer_X__25</th>\n",
       "      <th>accelerometer_Y__25</th>\n",
       "      <th>accelerometer_Z__25</th>\n",
       "      <th>accelerometer_X__26</th>\n",
       "      <th>accelerometer_Y__26</th>\n",
       "      <th>accelerometer_Z__26</th>\n",
       "      <th>accelerometer_X__27</th>\n",
       "      <th>accelerometer_Y__27</th>\n",
       "      <th>accelerometer_Z__27</th>\n",
       "      <th>accelerometer_X__28</th>\n",
       "      <th>accelerometer_Y__28</th>\n",
       "      <th>accelerometer_Z__28</th>\n",
       "      <th>accelerometer_X__29</th>\n",
       "      <th>accelerometer_Y__29</th>\n",
       "      <th>accelerometer_Z__29</th>\n",
       "      <th>type</th>\n",
       "      <th>id</th>\n",
       "    </tr>\n",
       "  </thead>\n",
       "  <tbody>\n",
       "    <tr>\n",
       "      <th>0</th>\n",
       "      <td>0.603339</td>\n",
       "      <td>-0.052672</td>\n",
       "      <td>-0.009577</td>\n",
       "      <td>-0.167594</td>\n",
       "      <td>0.11971</td>\n",
       "      <td>0.081403</td>\n",
       "      <td>0.033519</td>\n",
       "      <td>0.435745</td>\n",
       "      <td>0.349553</td>\n",
       "      <td>0.861913</td>\n",
       "      <td>0.411803</td>\n",
       "      <td>-0.402226</td>\n",
       "      <td>0.488417</td>\n",
       "      <td>0.21069</td>\n",
       "      <td>0.095768</td>\n",
       "      <td>-0.014365</td>\n",
       "      <td>0.54109</td>\n",
       "      <td>0.483629</td>\n",
       "      <td>-0.268151</td>\n",
       "      <td>-0.837971</td>\n",
       "      <td>0.306458</td>\n",
       "      <td>-0.536301</td>\n",
       "      <td>-1.015141</td>\n",
       "      <td>0.301669</td>\n",
       "      <td>0.344765</td>\n",
       "      <td>0.100556</td>\n",
       "      <td>0.483629</td>\n",
       "      <td>0.981623</td>\n",
       "      <td>1.537078</td>\n",
       "      <td>1.977611</td>\n",
       "      <td>6.397307</td>\n",
       "      <td>6.066907</td>\n",
       "      <td>6.042965</td>\n",
       "      <td>6.090849</td>\n",
       "      <td>7.149087</td>\n",
       "      <td>6.655881</td>\n",
       "      <td>6.612785</td>\n",
       "      <td>6.196194</td>\n",
       "      <td>7.034165</td>\n",
       "      <td>6.244078</td>\n",
       "      <td>6.229713</td>\n",
       "      <td>7.158664</td>\n",
       "      <td>6.502652</td>\n",
       "      <td>6.947974</td>\n",
       "      <td>6.33027</td>\n",
       "      <td>6.229713</td>\n",
       "      <td>6.464345</td>\n",
       "      <td>5.348647</td>\n",
       "      <td>6.497864</td>\n",
       "      <td>7.321469</td>\n",
       "      <td>4.922479</td>\n",
       "      <td>5.214572</td>\n",
       "      <td>5.114015</td>\n",
       "      <td>5.683835</td>\n",
       "      <td>5.798757</td>\n",
       "      <td>5.784392</td>\n",
       "      <td>5.750873</td>\n",
       "      <td>6.277597</td>\n",
       "      <td>6.21056</td>\n",
       "      <td>7.244855</td>\n",
       "      <td>8.51857</td>\n",
       "      <td>8.058883</td>\n",
       "      <td>7.268797</td>\n",
       "      <td>8.202535</td>\n",
       "      <td>5.870583</td>\n",
       "      <td>7.129933</td>\n",
       "      <td>6.502652</td>\n",
       "      <td>7.40766</td>\n",
       "      <td>6.26802</td>\n",
       "      <td>7.067683</td>\n",
       "      <td>7.302315</td>\n",
       "      <td>6.469133</td>\n",
       "      <td>7.70933</td>\n",
       "      <td>6.574478</td>\n",
       "      <td>6.943185</td>\n",
       "      <td>6.933608</td>\n",
       "      <td>8.365341</td>\n",
       "      <td>8.30788</td>\n",
       "      <td>6.44998</td>\n",
       "      <td>6.588843</td>\n",
       "      <td>7.85777</td>\n",
       "      <td>8.331822</td>\n",
       "      <td>7.85777</td>\n",
       "      <td>7.402872</td>\n",
       "      <td>8.044518</td>\n",
       "      <td>7.733272</td>\n",
       "      <td>7.685388</td>\n",
       "      <td>6.215348</td>\n",
       "      <td>8.561666</td>\n",
       "      <td>5.477934</td>\n",
       "      <td>idle</td>\n",
       "      <td>idle-523</td>\n",
       "    </tr>\n",
       "  </tbody>\n",
       "</table>\n",
       "</div>"
      ],
      "text/plain": [
       "   accelerometer_X__0  accelerometer_Y__0  accelerometer_Z__0  \\\n",
       "0            0.603339           -0.052672           -0.009577   \n",
       "\n",
       "   accelerometer_X__1  accelerometer_Y__1  accelerometer_Z__1  \\\n",
       "0           -0.167594             0.11971            0.081403   \n",
       "\n",
       "   accelerometer_X__2  accelerometer_Y__2  accelerometer_Z__2  \\\n",
       "0            0.033519            0.435745            0.349553   \n",
       "\n",
       "   accelerometer_X__3  accelerometer_Y__3  accelerometer_Z__3  \\\n",
       "0            0.861913            0.411803           -0.402226   \n",
       "\n",
       "   accelerometer_X__4  accelerometer_Y__4  accelerometer_Z__4  \\\n",
       "0            0.488417             0.21069            0.095768   \n",
       "\n",
       "   accelerometer_X__5  accelerometer_Y__5  accelerometer_Z__5  \\\n",
       "0           -0.014365             0.54109            0.483629   \n",
       "\n",
       "   accelerometer_X__6  accelerometer_Y__6  accelerometer_Z__6  \\\n",
       "0           -0.268151           -0.837971            0.306458   \n",
       "\n",
       "   accelerometer_X__7  accelerometer_Y__7  accelerometer_Z__7  \\\n",
       "0           -0.536301           -1.015141            0.301669   \n",
       "\n",
       "   accelerometer_X__8  accelerometer_Y__8  accelerometer_Z__8  \\\n",
       "0            0.344765            0.100556            0.483629   \n",
       "\n",
       "   accelerometer_X__9  accelerometer_Y__9  accelerometer_Z__9  \\\n",
       "0            0.981623            1.537078            1.977611   \n",
       "\n",
       "   accelerometer_X__10  accelerometer_Y__10  accelerometer_Z__10  \\\n",
       "0             6.397307             6.066907             6.042965   \n",
       "\n",
       "   accelerometer_X__11  accelerometer_Y__11  accelerometer_Z__11  \\\n",
       "0             6.090849             7.149087             6.655881   \n",
       "\n",
       "   accelerometer_X__12  accelerometer_Y__12  accelerometer_Z__12  \\\n",
       "0             6.612785             6.196194             7.034165   \n",
       "\n",
       "   accelerometer_X__13  accelerometer_Y__13  accelerometer_Z__13  \\\n",
       "0             6.244078             6.229713             7.158664   \n",
       "\n",
       "   accelerometer_X__14  accelerometer_Y__14  accelerometer_Z__14  \\\n",
       "0             6.502652             6.947974              6.33027   \n",
       "\n",
       "   accelerometer_X__15  accelerometer_Y__15  accelerometer_Z__15  \\\n",
       "0             6.229713             6.464345             5.348647   \n",
       "\n",
       "   accelerometer_X__16  accelerometer_Y__16  accelerometer_Z__16  \\\n",
       "0             6.497864             7.321469             4.922479   \n",
       "\n",
       "   accelerometer_X__17  accelerometer_Y__17  accelerometer_Z__17  \\\n",
       "0             5.214572             5.114015             5.683835   \n",
       "\n",
       "   accelerometer_X__18  accelerometer_Y__18  accelerometer_Z__18  \\\n",
       "0             5.798757             5.784392             5.750873   \n",
       "\n",
       "   accelerometer_X__19  accelerometer_Y__19  accelerometer_Z__19  \\\n",
       "0             6.277597              6.21056             7.244855   \n",
       "\n",
       "   accelerometer_X__20  accelerometer_Y__20  accelerometer_Z__20  \\\n",
       "0              8.51857             8.058883             7.268797   \n",
       "\n",
       "   accelerometer_X__21  accelerometer_Y__21  accelerometer_Z__21  \\\n",
       "0             8.202535             5.870583             7.129933   \n",
       "\n",
       "   accelerometer_X__22  accelerometer_Y__22  accelerometer_Z__22  \\\n",
       "0             6.502652              7.40766              6.26802   \n",
       "\n",
       "   accelerometer_X__23  accelerometer_Y__23  accelerometer_Z__23  \\\n",
       "0             7.067683             7.302315             6.469133   \n",
       "\n",
       "   accelerometer_X__24  accelerometer_Y__24  accelerometer_Z__24  \\\n",
       "0              7.70933             6.574478             6.943185   \n",
       "\n",
       "   accelerometer_X__25  accelerometer_Y__25  accelerometer_Z__25  \\\n",
       "0             6.933608             8.365341              8.30788   \n",
       "\n",
       "   accelerometer_X__26  accelerometer_Y__26  accelerometer_Z__26  \\\n",
       "0              6.44998             6.588843              7.85777   \n",
       "\n",
       "   accelerometer_X__27  accelerometer_Y__27  accelerometer_Z__27  \\\n",
       "0             8.331822              7.85777             7.402872   \n",
       "\n",
       "   accelerometer_X__28  accelerometer_Y__28  accelerometer_Z__28  \\\n",
       "0             8.044518             7.733272             7.685388   \n",
       "\n",
       "   accelerometer_X__29  accelerometer_Y__29  accelerometer_Z__29  type  \\\n",
       "0             6.215348             8.561666             5.477934  idle   \n",
       "\n",
       "         id  \n",
       "0  idle-523  "
      ]
     },
     "execution_count": 16,
     "metadata": {},
     "output_type": "execute_result"
    }
   ],
   "source": [
    "simple_features = []\n",
    "\n",
    "for arg in tqdm(data_list):\n",
    "    temp = arg.pivot(index='id', columns='time', \n",
    "                       values=['accelerometer_X', 'accelerometer_Y', 'accelerometer_Z']\n",
    "                      )\n",
    "    temp.columns = ['__'.join([arg, str(num)]) for num in range(30)\n",
    "                            for arg in ['accelerometer_X', 'accelerometer_Y', 'accelerometer_Z']]\n",
    "    temp['type'] = arg.type.unique()[0]\n",
    "    temp['id'] = arg.id.unique()[0]\n",
    "\n",
    "    simple_features.append(temp.reset_index(drop=True))\n",
    "    \n",
    "simple_features[0]"
   ]
  },
  {
   "cell_type": "code",
   "execution_count": 17,
   "metadata": {
    "ExecuteTime": {
     "end_time": "2020-08-09T12:28:07.048645Z",
     "start_time": "2020-08-09T12:28:06.233902Z"
    }
   },
   "outputs": [
    {
     "data": {
      "text/plain": [
       "(6462, 92)"
      ]
     },
     "execution_count": 17,
     "metadata": {},
     "output_type": "execute_result"
    }
   ],
   "source": [
    "simple_df = pd.concat(simple_features, axis=0, sort=False)\n",
    "simple_df.shape"
   ]
  },
  {
   "cell_type": "code",
   "execution_count": 18,
   "metadata": {
    "ExecuteTime": {
     "end_time": "2020-08-09T12:28:07.072085Z",
     "start_time": "2020-08-09T12:28:07.051035Z"
    }
   },
   "outputs": [
    {
     "data": {
      "text/plain": [
       "((5815, 90), (647, 90))"
      ]
     },
     "execution_count": 18,
     "metadata": {},
     "output_type": "execute_result"
    }
   ],
   "source": [
    "X_train = simple_df[simple_df['id'].isin(train_ids['id'])].drop(['type', 'id'], axis=1).copy()\n",
    "y_train = simple_df[simple_df['id'].isin(train_ids['id'])]['type'].values\n",
    "\n",
    "X_test = simple_df[simple_df['id'].isin(test_ids['id'])].drop(['type', 'id'], axis=1).copy()\n",
    "y_test = simple_df[simple_df['id'].isin(test_ids['id'])]['type'].values\n",
    "\n",
    "X_train.shape, X_test.shape"
   ]
  },
  {
   "cell_type": "code",
   "execution_count": 19,
   "metadata": {
    "ExecuteTime": {
     "end_time": "2020-08-09T12:28:10.189070Z",
     "start_time": "2020-08-09T12:28:07.073445Z"
    },
    "scrolled": true
   },
   "outputs": [
    {
     "name": "stderr",
     "output_type": "stream",
     "text": [
      "[Parallel(n_jobs=1)]: Using backend SequentialBackend with 1 concurrent workers.\n"
     ]
    },
    {
     "name": "stdout",
     "output_type": "stream",
     "text": [
      "              precision    recall  f1-score   support\n",
      "\n",
      "        idle     1.0000    1.0000    1.0000       935\n",
      "     running     1.0000    1.0000    1.0000      3067\n",
      "      stairs     1.0000    0.0878    0.1615       148\n",
      "     walking     0.9250    1.0000    0.9610      1665\n",
      "\n",
      "    accuracy                         0.9768      5815\n",
      "   macro avg     0.9812    0.7720    0.7806      5815\n",
      "weighted avg     0.9785    0.9768    0.9675      5815\n",
      "\n"
     ]
    },
    {
     "name": "stderr",
     "output_type": "stream",
     "text": [
      "[Parallel(n_jobs=1)]: Done   5 out of   5 | elapsed:    3.0s finished\n"
     ]
    }
   ],
   "source": [
    "preds_cv = cross_val_predict(RandomForestClassifier(class_weight='balanced', n_jobs=-1), \n",
    "                             X_train, y_train, groups=y_train, cv=5, verbose=1)\n",
    "\n",
    "print(classification_report(y_train, preds_cv, digits=4))"
   ]
  },
  {
   "cell_type": "code",
   "execution_count": 20,
   "metadata": {
    "ExecuteTime": {
     "end_time": "2020-08-09T12:28:10.389821Z",
     "start_time": "2020-08-09T12:28:10.191763Z"
    }
   },
   "outputs": [
    {
     "data": {
      "image/png": "[encoded data removed]",
      "text/plain": [
       "<Figure size 432x288 with 2 Axes>"
      ]
     },
     "metadata": {
      "needs_background": "light"
     },
     "output_type": "display_data"
    }
   ],
   "source": [
    "fig, ax = plt.subplots()\n",
    "ConfusionMatrixDisplay(confusion_matrix(y_train, preds_cv), np.unique(y_train)\n",
    "                      ).plot(cmap=plt.cm.Blues,\n",
    "                             values_format='.0f',\n",
    "                            ax=ax)\n",
    "ax.set_title('Cross Validation result')\n",
    "plt.show()"
   ]
  },
  {
   "cell_type": "code",
   "execution_count": 21,
   "metadata": {
    "ExecuteTime": {
     "end_time": "2020-08-09T12:28:10.899123Z",
     "start_time": "2020-08-09T12:28:10.392417Z"
    }
   },
   "outputs": [
    {
     "name": "stdout",
     "output_type": "stream",
     "text": [
      "              precision    recall  f1-score   support\n",
      "\n",
      "        idle     1.0000    1.0000    1.0000       104\n",
      "     running     1.0000    1.0000    1.0000       341\n",
      "      stairs     1.0000    0.0588    0.1111        17\n",
      "     walking     0.9204    1.0000    0.9585       185\n",
      "\n",
      "    accuracy                         0.9753       647\n",
      "   macro avg     0.9801    0.7647    0.7674       647\n",
      "weighted avg     0.9772    0.9753    0.9648       647\n",
      "\n"
     ]
    }
   ],
   "source": [
    "classifier_full = RandomForestClassifier(class_weight='balanced', n_jobs=-1)\n",
    "classifier_full.fit(X_train, y_train)\n",
    "preds_test = classifier_full.predict(X_test)\n",
    "\n",
    "print(classification_report(y_test, preds_test, digits=4))"
   ]
  },
  {
   "cell_type": "code",
   "execution_count": 22,
   "metadata": {
    "ExecuteTime": {
     "end_time": "2020-08-09T12:28:11.068133Z",
     "start_time": "2020-08-09T12:28:10.900918Z"
    }
   },
   "outputs": [
    {
     "data": {
      "image/png": "[encoded data removed]",
      "text/plain": [
       "<Figure size 432x288 with 2 Axes>"
      ]
     },
     "metadata": {
      "needs_background": "light"
     },
     "output_type": "display_data"
    }
   ],
   "source": [
    "fig, ax = plt.subplots()\n",
    "ConfusionMatrixDisplay(confusion_matrix(y_test, preds_test), np.unique(y_test)\n",
    "                      ).plot(cmap=plt.cm.Blues,\n",
    "                             values_format='.0f',\n",
    "                            ax=ax)\n",
    "ax.set_title('Hold-Out result')\n",
    "plt.show()"
   ]
  },
  {
   "cell_type": "code",
   "execution_count": 23,
   "metadata": {
    "ExecuteTime": {
     "end_time": "2020-08-09T12:28:11.075289Z",
     "start_time": "2020-08-09T12:28:11.070260Z"
    }
   },
   "outputs": [
    {
     "data": {
      "text/plain": [
       "(array(['idle', 'running', 'stairs', 'walking'], dtype=object),\n",
       " array([104, 341,  17, 185]))"
      ]
     },
     "execution_count": 23,
     "metadata": {},
     "output_type": "execute_result"
    }
   ],
   "source": [
    "np.unique(y_test, return_counts=True)"
   ]
  },
  {
   "cell_type": "markdown",
   "metadata": {},
   "source": [
    "**Conclusions:**\n",
    "\n",
    "1. We had big issue with __stairs__ class. Model isn't recognize it, and predict as __walking__."
   ]
  },
  {
   "cell_type": "markdown",
   "metadata": {},
   "source": [
    "## Build features with TSFresh library"
   ]
  },
  {
   "cell_type": "code",
   "execution_count": 24,
   "metadata": {
    "ExecuteTime": {
     "end_time": "2020-08-09T12:28:11.271766Z",
     "start_time": "2020-08-09T12:28:11.076839Z"
    }
   },
   "outputs": [],
   "source": [
    "from tsfresh import extract_features, extract_relevant_features, select_features\n",
    "from tsfresh.utilities.dataframe_functions import impute"
   ]
  },
  {
   "cell_type": "code",
   "execution_count": 25,
   "metadata": {
    "ExecuteTime": {
     "end_time": "2020-08-09T12:32:04.990568Z",
     "start_time": "2020-08-09T12:28:11.273315Z"
    },
    "scrolled": true
   },
   "outputs": [
    {
     "name": "stderr",
     "output_type": "stream",
     "text": [
      "Feature Extraction: 100%|██████████| 60/60 [02:44<00:00,  2.75s/it]\n",
      "Feature Extraction: 100%|██████████| 59/59 [00:27<00:00,  2.15it/s]\n"
     ]
    },
    {
     "data": {
      "text/plain": [
       "((5815, 2289), (647, 2289))"
      ]
     },
     "execution_count": 25,
     "metadata": {},
     "output_type": "execute_result"
    }
   ],
   "source": [
    "X_train_gen = extract_features(data_df[data_df['id'].isin(train_ids['id'])\n",
    "                                      ].sort_values([\"id\", \"time\"]).drop(['type'], axis=1).copy(), \n",
    "                               column_id=\"id\", \n",
    "                               column_sort=\"time\", \n",
    "                               impute_function=impute,\n",
    "                              n_jobs=12)\n",
    "X_test_gen = extract_features(data_df[data_df['id'].isin(test_ids['id'])\n",
    "                                      ].sort_values([\"id\", \"time\"]).drop(['type'], axis=1).copy(), \n",
    "                               column_id=\"id\", \n",
    "                               column_sort=\"time\", \n",
    "                               impute_function=impute,\n",
    "                              n_jobs=12)\n",
    "\n",
    "X_train_gen.shape, X_test_gen.shape"
   ]
  },
  {
   "cell_type": "code",
   "execution_count": 26,
   "metadata": {
    "ExecuteTime": {
     "end_time": "2020-08-09T12:32:05.314580Z",
     "start_time": "2020-08-09T12:32:04.993245Z"
    }
   },
   "outputs": [
    {
     "data": {
      "text/plain": [
       "((array(['idle', 'running', 'stairs', 'walking'], dtype=object),\n",
       "  array([ 935, 3067,  148, 1665])),\n",
       " (array(['idle', 'running', 'stairs', 'walking'], dtype=object),\n",
       "  array([104, 341,  17, 185])))"
      ]
     },
     "execution_count": 26,
     "metadata": {},
     "output_type": "execute_result"
    }
   ],
   "source": [
    "X_train = X_train_gen.copy()\n",
    "y_train = X_train_gen.reset_index()['id'].apply(lambda x: x.split('-')[0]).values\n",
    "\n",
    "X_test = X_test_gen.copy()\n",
    "y_test = X_test_gen.reset_index()['id'].apply(lambda x: x.split('-')[0]).values\n",
    "\n",
    "np.unique(y_train, return_counts=True), np.unique(y_test, return_counts=True)"
   ]
  },
  {
   "cell_type": "code",
   "execution_count": 27,
   "metadata": {
    "ExecuteTime": {
     "end_time": "2020-08-09T12:32:08.410479Z",
     "start_time": "2020-08-09T12:32:05.321857Z"
    },
    "scrolled": true
   },
   "outputs": [
    {
     "name": "stderr",
     "output_type": "stream",
     "text": [
      "[Parallel(n_jobs=1)]: Using backend SequentialBackend with 1 concurrent workers.\n"
     ]
    },
    {
     "name": "stdout",
     "output_type": "stream",
     "text": [
      "              precision    recall  f1-score   support\n",
      "\n",
      "        idle     1.0000    1.0000    1.0000       935\n",
      "     running     1.0000    1.0000    1.0000      3067\n",
      "      stairs     0.9853    0.4527    0.6204       148\n",
      "     walking     0.9536    0.9994    0.9760      1665\n",
      "\n",
      "    accuracy                         0.9859      5815\n",
      "   macro avg     0.9847    0.8630    0.8991      5815\n",
      "weighted avg     0.9863    0.9859    0.9835      5815\n",
      "\n"
     ]
    },
    {
     "name": "stderr",
     "output_type": "stream",
     "text": [
      "[Parallel(n_jobs=1)]: Done   5 out of   5 | elapsed:    2.9s finished\n"
     ]
    }
   ],
   "source": [
    "preds_cv = cross_val_predict(RandomForestClassifier(class_weight='balanced', n_jobs=-1), \n",
    "                             X_train, y_train, groups=y_train, cv=5, verbose=1)\n",
    "\n",
    "print(classification_report(y_train, preds_cv, digits=4))"
   ]
  },
  {
   "cell_type": "code",
   "execution_count": 28,
   "metadata": {
    "ExecuteTime": {
     "end_time": "2020-08-09T12:32:08.655525Z",
     "start_time": "2020-08-09T12:32:08.413247Z"
    }
   },
   "outputs": [
    {
     "data": {
      "image/png": "[encoded data removed]",
      "text/plain": [
       "<Figure size 432x288 with 2 Axes>"
      ]
     },
     "metadata": {
      "needs_background": "light"
     },
     "output_type": "display_data"
    }
   ],
   "source": [
    "fig, ax = plt.subplots()\n",
    "ConfusionMatrixDisplay(confusion_matrix(y_train, preds_cv), np.unique(y_train)\n",
    "                      ).plot(cmap=plt.cm.Blues,\n",
    "                             values_format='.0f',\n",
    "                            ax=ax)\n",
    "ax.set_title('Cross Validation result')\n",
    "plt.show()"
   ]
  },
  {
   "cell_type": "code",
   "execution_count": 29,
   "metadata": {
    "ExecuteTime": {
     "end_time": "2020-08-09T12:32:09.318717Z",
     "start_time": "2020-08-09T12:32:08.657567Z"
    }
   },
   "outputs": [
    {
     "name": "stdout",
     "output_type": "stream",
     "text": [
      "              precision    recall  f1-score   support\n",
      "\n",
      "        idle     1.0000    1.0000    1.0000       104\n",
      "     running     1.0000    1.0000    1.0000       341\n",
      "      stairs     1.0000    1.0000    1.0000        17\n",
      "     walking     1.0000    1.0000    1.0000       185\n",
      "\n",
      "    accuracy                         1.0000       647\n",
      "   macro avg     1.0000    1.0000    1.0000       647\n",
      "weighted avg     1.0000    1.0000    1.0000       647\n",
      "\n"
     ]
    }
   ],
   "source": [
    "classifier_full = RandomForestClassifier(class_weight='balanced', n_jobs=-1)\n",
    "classifier_full.fit(X_train, y_train)\n",
    "preds_test = classifier_full.predict(X_test)\n",
    "\n",
    "print(classification_report(y_test, preds_test, digits=4))"
   ]
  },
  {
   "cell_type": "code",
   "execution_count": 30,
   "metadata": {
    "ExecuteTime": {
     "end_time": "2020-08-09T12:32:09.522491Z",
     "start_time": "2020-08-09T12:32:09.320517Z"
    }
   },
   "outputs": [
    {
     "data": {
      "image/png": "[encoded data removed]",
      "text/plain": [
       "<Figure size 432x288 with 2 Axes>"
      ]
     },
     "metadata": {
      "needs_background": "light"
     },
     "output_type": "display_data"
    }
   ],
   "source": [
    "fig, ax = plt.subplots()\n",
    "ConfusionMatrixDisplay(confusion_matrix(y_test, preds_test), np.unique(y_test)\n",
    "                      ).plot(cmap=plt.cm.Blues,\n",
    "                             values_format='.0f',\n",
    "                            ax=ax)\n",
    "ax.set_title('Hold-Out result')\n",
    "plt.show()"
   ]
  },
  {
   "cell_type": "code",
   "execution_count": null,
   "metadata": {},
   "outputs": [],
   "source": []
  },
  {
   "cell_type": "markdown",
   "metadata": {},
   "source": [
    "## Filter features"
   ]
  },
  {
   "cell_type": "code",
   "execution_count": null,
   "metadata": {
    "ExecuteTime": {
     "start_time": "2020-08-09T12:27:11.928Z"
    }
   },
   "outputs": [],
   "source": [
    "relevant_features = set()\n",
    "\n",
    "for label in np.unique(y_train):\n",
    "    y_train_binary = y_train == label\n",
    "    X_train_filtered = select_features(X_train, y_train_binary)\n",
    "    print(\"Number of relevant features for class {}: {}/{}\".format(label, X_train_filtered.shape[1], X_train.shape[1]))\n",
    "    relevant_features = relevant_features.union(set(X_train_filtered.columns))"
   ]
  },
  {
   "cell_type": "code",
   "execution_count": null,
   "metadata": {},
   "outputs": [],
   "source": []
  },
  {
   "cell_type": "code",
   "execution_count": null,
   "metadata": {},
   "outputs": [],
   "source": []
  },
  {
   "cell_type": "code",
   "execution_count": null,
   "metadata": {},
   "outputs": [],
   "source": []
  }
 ],
 "metadata": {
  "kernelspec": {
   "display_name": "Python 3",
   "language": "python",
   "name": "python3"
  },
  "language_info": {
   "codemirror_mode": {
    "name": "ipython",
    "version": 3
   },
   "file_extension": ".py",
   "mimetype": "text/x-python",
   "name": "python",
   "nbconvert_exporter": "python",
   "pygments_lexer": "ipython3",
   "version": "3.7.6"
  },
  "nbTranslate": {
   "displayLangs": [
    "*"
   ],
   "hotkey": "alt-t",
   "langInMainMenu": true,
   "sourceLang": "en",
   "targetLang": "fr",
   "useGoogleTranslate": true
  },
  "toc": {
   "base_numbering": 1,
   "nav_menu": {},
   "number_sections": true,
   "sideBar": true,
   "skip_h1_title": false,
   "title_cell": "Table of Contents",
   "title_sidebar": "Contents",
   "toc_cell": false,
   "toc_position": {},
   "toc_section_display": true,
   "toc_window_display": false
  }
 },
 "nbformat": 4,
 "nbformat_minor": 4
}
